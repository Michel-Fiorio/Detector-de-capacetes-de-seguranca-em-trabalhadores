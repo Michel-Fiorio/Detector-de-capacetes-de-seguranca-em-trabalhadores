{
 "cells": [
  {
   "cell_type": "code",
   "execution_count": 2,
   "id": "26a7fd39-e6e7-44e5-9fb3-c4a474db99ae",
   "metadata": {},
   "outputs": [],
   "source": [
    "# Carregando bibliotecas necessárias\n",
    "\n",
    "from roboflow import Roboflow\n",
    "import cv2\n",
    "import numpy as np\n",
    "import time\n",
    "from matplotlib import pyplot as plt"
   ]
  },
  {
   "cell_type": "code",
   "execution_count": 3,
   "id": "6c37af23",
   "metadata": {},
   "outputs": [
    {
     "name": "stdout",
     "output_type": "stream",
     "text": [
      "loading Roboflow workspace...\n",
      "loading Roboflow project...\n"
     ]
    }
   ],
   "source": [
    "# Carregando o modelo pré-treinado de detecção de objeto \n",
    "\n",
    "# Identificação da API do modelo denominado 'hard-hat-workers' da Roboflow, versão 13.\n",
    "rf = Roboflow(api_key=\"vBrRa8QBE3vX8i5MLqjF\")   # identificador da API\n",
    "project = rf.workspace().project(\"hard-hat-workers\")  # Nome do modelo\n",
    "model = project.version(13).model   # Versão do modelo carregado"
   ]
  },
  {
   "cell_type": "code",
   "execution_count": 4,
   "id": "ab584bfa",
   "metadata": {},
   "outputs": [],
   "source": [
    "# Criando uma função para captura da imagem da webcam e realizando a inferência da imagem com o modelo carregado anteriormente\n",
    "\n",
    "def infer():\n",
    "    # Captura da imagem da webcam\n",
    "    ret, img = video.read()\n",
    "        \n",
    "    # Redimensionando a imagem (enquanto mantendo a proporção atual) para melhorar a velocidade do processamento\n",
    "    height, width, channels = img.shape\n",
    "    scale = 416 / max(height, width)  # \n",
    "    img = cv2.resize(img, (round(scale * width), round(scale * height)))\n",
    "    \n",
    "    # Convertendo a imagem para escala de cinza para melhorar a velocidade do processamento\n",
    "    img_gray = cv2.cvtColor(img, cv2.COLOR_BGR2GRAY)\n",
    "    \n",
    "    # Realizando a inferência da imagem no modelo a partir da API da Roboflow\n",
    "    predicao = model.predict(img_gray, confidence=40, overlap=30).json()  # resultado é um arquivo no padrão json\n",
    "    \n",
    "    # Realizando a iteração nos descritores resultante da inferência realizada na imagem\n",
    "    for i in predicao['predictions']:\n",
    "      # Desenhar a caixa delimitadora ao redor das cabeças das pessoas detectadas\n",
    "      x0=i['x']-i['width']/2\n",
    "      x1=i['x']+i['width']/2\n",
    "      y0=i['y']-i['height']/2\n",
    "      y1=i['y']+i['height']/2\n",
    "      start_point = (int(x0), int(y0))\n",
    "      end_point = (int(x1), int(y1))\n",
    "      # Se a classe identificada for 'capacete' desenhar na cor verde. Caso contrário, desenhar na cor vermelha e escrever\n",
    "      # mensagem \"Sem capacete\" junto com a caixa delimitadora\n",
    "      if i['class']=='helmet':\n",
    "        cor=(127,255,0)  # verde - sequência BGR\n",
    "        texto=''\n",
    "      else:\n",
    "        cor=(127,0,255)  # vermelho - sequência BGR\n",
    "        texto='Sem capacete'\n",
    "      # Desenhando retângulos e texto na imagem\n",
    "      cv2.rectangle(img, start_point, end_point, color=cor, thickness=2)\n",
    "      cv2.putText(img,texto,org=start_point,fontFace=cv2.FONT_HERSHEY_SIMPLEX,fontScale=0.6,color=cor,thickness=2)\n",
    "\n",
    "    return img"
   ]
  },
  {
   "cell_type": "code",
   "execution_count": 5,
   "id": "83934521",
   "metadata": {
    "scrolled": true
   },
   "outputs": [],
   "source": [
    "# Abrindo conexão com a webcam do computador\n",
    "video = cv2.VideoCapture(0)"
   ]
  },
  {
   "cell_type": "code",
   "execution_count": 6,
   "id": "3a1f51e1",
   "metadata": {},
   "outputs": [
    {
     "name": "stdout",
     "output_type": "stream",
     "text": [
      "0.3580228260993893  fps\n",
      "0.5689740868315785  fps\n",
      "0.45948353368277406  fps\n",
      "0.9196526534682469  fps\n",
      "0.8138209929254705  fps\n",
      "0.4258728771232575  fps\n",
      "0.6937804788888672  fps\n",
      "0.4910073959506181  fps\n",
      "0.7174324825914643  fps\n",
      "1.09218560601622  fps\n",
      "0.4575522836138556  fps\n",
      "0.37676669573506577  fps\n",
      "0.75281576483697  fps\n",
      "0.5149543873598051  fps\n",
      "0.5751150900962048  fps\n",
      "0.5163461444947937  fps\n",
      "0.9578253961076834  fps\n",
      "0.9843787551069454  fps\n",
      "0.7199021525814191  fps\n",
      "0.6119861509138346  fps\n",
      "0.5734321377077994  fps\n",
      "0.6521702759410147  fps\n",
      "0.9441541979739299  fps\n",
      "0.963796374743012  fps\n",
      "1.1135340062548784  fps\n",
      "0.950547681105982  fps\n",
      "0.7870249741289452  fps\n",
      "0.9216998658204226  fps\n",
      "0.45997191018937206  fps\n",
      "1.1245334556628381  fps\n",
      "0.8100741664363511  fps\n",
      "0.7422384281400171  fps\n",
      "0.7047618215478836  fps\n",
      "0.6101190969728125  fps\n",
      "0.7019284563496241  fps\n",
      "1.0970402200617217  fps\n",
      "1.1736603151639968  fps\n",
      "1.1506160863892587  fps\n",
      "1.087388426970982  fps\n",
      "1.145847573432469  fps\n",
      "1.1394927044064798  fps\n",
      "0.7579755604031473  fps\n",
      "0.8074947951741726  fps\n",
      "0.6515914597060904  fps\n",
      "1.0702362437787778  fps\n",
      "1.1917820168752513  fps\n",
      "1.1480197683762912  fps\n",
      "0.6278385970006938  fps\n"
     ]
    }
   ],
   "source": [
    "# Loop principal. Realiza inferência das imagens e mostra as imagens em uma janela até apertar o botão 'q' para terminar\n",
    "\n",
    "while True:\n",
    "    # Ao apertar 'q' no teclado, o loop termina e fecha a janela de video que foi aberta\n",
    "    if(cv2.waitKey(1) == ord('q')):\n",
    "        break\n",
    "\n",
    "    # Captura a hora de inicio para fins de cálculo da taxa de quadros por segundo das inferências\n",
    "    start = time.time()\n",
    "\n",
    "    # Chama a função para captura a imagem, gerar a inferência, desenhar as caixas e retornar com a imagem final\n",
    "    image = infer()\n",
    "    \n",
    "    # Mostra a imagem resultante da inferência e interpretação dos resultados\n",
    "    cv2.imshow('image', image)\n",
    "\n",
    "    # Imprime a taxa de quadros por segundo\n",
    "    print((1/(time.time()-start)), \" fps\")\n",
    "\n",
    "# Fecha a conexão com a webcam e fecha a janela de vídeo aberta\n",
    "video.release()\n",
    "cv2.destroyAllWindows()"
   ]
  },
  {
   "cell_type": "code",
   "execution_count": null,
   "id": "2b44aca0",
   "metadata": {},
   "outputs": [],
   "source": []
  }
 ],
 "metadata": {
  "kernelspec": {
   "display_name": "Python 3 (ipykernel)",
   "language": "python",
   "name": "python3"
  },
  "language_info": {
   "codemirror_mode": {
    "name": "ipython",
    "version": 3
   },
   "file_extension": ".py",
   "mimetype": "text/x-python",
   "name": "python",
   "nbconvert_exporter": "python",
   "pygments_lexer": "ipython3",
   "version": "3.10.9"
  }
 },
 "nbformat": 4,
 "nbformat_minor": 5
}
